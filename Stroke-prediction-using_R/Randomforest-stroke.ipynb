{
 "cells": [
  {
   "cell_type": "markdown",
   "metadata": {},
   "source": [
    "# Stroke prediction with clasification models\n",
    "Menurut Organisasi Kesehatan Dunia (WHO), stroke merupakan penyebab kematian nomor dua di dunia, bertanggung jawab atas sekitar 11% dari total kematian secara global. Dataset ini dirancang untuk memprediksi apakah seorang pasien berpotensi mengalami stroke berdasarkan parameter input seperti jenis kelamin, usia, riwayat penyakit, dan status merokok. Setiap baris dalam dataset menyediakan informasi relevan tentang pasien yang dapat digunakan untuk analisis prediktif.\n",
    "\n",
    "Dataset ini sangat berguna dalam konteks kesehatan untuk mengidentifikasi faktor risiko stroke dan membangun model machine learning guna mendukung diagnosis dini. Dengan memahami isi dataset, kita dapat melangkah ke tahap eksplorasi data, preprocessing, dan pemodelan prediktif."
   ]
  },
  {
   "cell_type": "markdown",
   "metadata": {},
   "source": [
    "Dataset ini digunakan untuk memprediksi apakah seorang pasien berpotensi mengalami stroke berdasarkan parameter input seperti jenis kelamin, usia, riwayat penyakit, dan status merokok. Dataset ini sangat berguna dalam konteks kesehatan untuk mengidentifikasi faktor risiko stroke dan membangun model machine learning guna mendukung diagnosis dini."
   ]
  },
  {
   "cell_type": "markdown",
   "metadata": {},
   "source": [
    "## Import Libraries"
   ]
  },
  {
   "cell_type": "code",
   "execution_count": 29,
   "metadata": {
    "vscode": {
     "languageId": "r"
    }
   },
   "outputs": [],
   "source": [
    "library(dplyr)\n",
    "library(tidyr)\n",
    "library(ggplot2)\n",
    "library(caret)\n",
    "library(pROC)\n",
    "\n",
    "options(dplyr.width = Inf)\n",
    "library(rpart)              \n",
    "library(randomForest)       \n",
    "library(e1071)              \n",
    "library(nnet)               \n",
    "library(pROC)               \n",
    "library(caret)             \n",
    "library(ROSE)               \n",
    "library(rpart.plot)   "
   ]
  },
  {
   "cell_type": "markdown",
   "metadata": {},
   "source": [
    "## Read Dataset"
   ]
  },
  {
   "cell_type": "code",
   "execution_count": 30,
   "metadata": {
    "vscode": {
     "languageId": "r"
    }
   },
   "outputs": [
    {
     "data": {
      "text/html": [
       "<table class=\"dataframe\">\n",
       "<caption>A data.frame: 6 × 12</caption>\n",
       "<thead>\n",
       "\t<tr><th></th><th scope=col>id</th><th scope=col>gender</th><th scope=col>age</th><th scope=col>hypertension</th><th scope=col>heart_disease</th><th scope=col>ever_married</th><th scope=col>work_type</th><th scope=col>Residence_type</th><th scope=col>avg_glucose_level</th><th scope=col>bmi</th><th scope=col>smoking_status</th><th scope=col>stroke</th></tr>\n",
       "\t<tr><th></th><th scope=col>&lt;int&gt;</th><th scope=col>&lt;chr&gt;</th><th scope=col>&lt;dbl&gt;</th><th scope=col>&lt;int&gt;</th><th scope=col>&lt;int&gt;</th><th scope=col>&lt;chr&gt;</th><th scope=col>&lt;chr&gt;</th><th scope=col>&lt;chr&gt;</th><th scope=col>&lt;dbl&gt;</th><th scope=col>&lt;chr&gt;</th><th scope=col>&lt;chr&gt;</th><th scope=col>&lt;int&gt;</th></tr>\n",
       "</thead>\n",
       "<tbody>\n",
       "\t<tr><th scope=row>1</th><td> 9046</td><td>Male  </td><td>67</td><td>0</td><td>1</td><td>Yes</td><td>Private      </td><td>Urban</td><td>228.69</td><td>36.6</td><td>formerly smoked</td><td>1</td></tr>\n",
       "\t<tr><th scope=row>2</th><td>51676</td><td>Female</td><td>61</td><td>0</td><td>0</td><td>Yes</td><td>Self-employed</td><td>Rural</td><td>202.21</td><td>N/A </td><td>never smoked   </td><td>1</td></tr>\n",
       "\t<tr><th scope=row>3</th><td>31112</td><td>Male  </td><td>80</td><td>0</td><td>1</td><td>Yes</td><td>Private      </td><td>Rural</td><td>105.92</td><td>32.5</td><td>never smoked   </td><td>1</td></tr>\n",
       "\t<tr><th scope=row>4</th><td>60182</td><td>Female</td><td>49</td><td>0</td><td>0</td><td>Yes</td><td>Private      </td><td>Urban</td><td>171.23</td><td>34.4</td><td>smokes         </td><td>1</td></tr>\n",
       "\t<tr><th scope=row>5</th><td> 1665</td><td>Female</td><td>79</td><td>1</td><td>0</td><td>Yes</td><td>Self-employed</td><td>Rural</td><td>174.12</td><td>24  </td><td>never smoked   </td><td>1</td></tr>\n",
       "\t<tr><th scope=row>6</th><td>56669</td><td>Male  </td><td>81</td><td>0</td><td>0</td><td>Yes</td><td>Private      </td><td>Urban</td><td>186.21</td><td>29  </td><td>formerly smoked</td><td>1</td></tr>\n",
       "</tbody>\n",
       "</table>\n"
      ],
      "text/latex": [
       "A data.frame: 6 × 12\n",
       "\\begin{tabular}{r|llllllllllll}\n",
       "  & id & gender & age & hypertension & heart\\_disease & ever\\_married & work\\_type & Residence\\_type & avg\\_glucose\\_level & bmi & smoking\\_status & stroke\\\\\n",
       "  & <int> & <chr> & <dbl> & <int> & <int> & <chr> & <chr> & <chr> & <dbl> & <chr> & <chr> & <int>\\\\\n",
       "\\hline\n",
       "\t1 &  9046 & Male   & 67 & 0 & 1 & Yes & Private       & Urban & 228.69 & 36.6 & formerly smoked & 1\\\\\n",
       "\t2 & 51676 & Female & 61 & 0 & 0 & Yes & Self-employed & Rural & 202.21 & N/A  & never smoked    & 1\\\\\n",
       "\t3 & 31112 & Male   & 80 & 0 & 1 & Yes & Private       & Rural & 105.92 & 32.5 & never smoked    & 1\\\\\n",
       "\t4 & 60182 & Female & 49 & 0 & 0 & Yes & Private       & Urban & 171.23 & 34.4 & smokes          & 1\\\\\n",
       "\t5 &  1665 & Female & 79 & 1 & 0 & Yes & Self-employed & Rural & 174.12 & 24   & never smoked    & 1\\\\\n",
       "\t6 & 56669 & Male   & 81 & 0 & 0 & Yes & Private       & Urban & 186.21 & 29   & formerly smoked & 1\\\\\n",
       "\\end{tabular}\n"
      ],
      "text/markdown": [
       "\n",
       "A data.frame: 6 × 12\n",
       "\n",
       "| <!--/--> | id &lt;int&gt; | gender &lt;chr&gt; | age &lt;dbl&gt; | hypertension &lt;int&gt; | heart_disease &lt;int&gt; | ever_married &lt;chr&gt; | work_type &lt;chr&gt; | Residence_type &lt;chr&gt; | avg_glucose_level &lt;dbl&gt; | bmi &lt;chr&gt; | smoking_status &lt;chr&gt; | stroke &lt;int&gt; |\n",
       "|---|---|---|---|---|---|---|---|---|---|---|---|---|\n",
       "| 1 |  9046 | Male   | 67 | 0 | 1 | Yes | Private       | Urban | 228.69 | 36.6 | formerly smoked | 1 |\n",
       "| 2 | 51676 | Female | 61 | 0 | 0 | Yes | Self-employed | Rural | 202.21 | N/A  | never smoked    | 1 |\n",
       "| 3 | 31112 | Male   | 80 | 0 | 1 | Yes | Private       | Rural | 105.92 | 32.5 | never smoked    | 1 |\n",
       "| 4 | 60182 | Female | 49 | 0 | 0 | Yes | Private       | Urban | 171.23 | 34.4 | smokes          | 1 |\n",
       "| 5 |  1665 | Female | 79 | 1 | 0 | Yes | Self-employed | Rural | 174.12 | 24   | never smoked    | 1 |\n",
       "| 6 | 56669 | Male   | 81 | 0 | 0 | Yes | Private       | Urban | 186.21 | 29   | formerly smoked | 1 |\n",
       "\n"
      ],
      "text/plain": [
       "  id    gender age hypertension heart_disease ever_married work_type    \n",
       "1  9046 Male   67  0            1             Yes          Private      \n",
       "2 51676 Female 61  0            0             Yes          Self-employed\n",
       "3 31112 Male   80  0            1             Yes          Private      \n",
       "4 60182 Female 49  0            0             Yes          Private      \n",
       "5  1665 Female 79  1            0             Yes          Self-employed\n",
       "6 56669 Male   81  0            0             Yes          Private      \n",
       "  Residence_type avg_glucose_level bmi  smoking_status  stroke\n",
       "1 Urban          228.69            36.6 formerly smoked 1     \n",
       "2 Rural          202.21            N/A  never smoked    1     \n",
       "3 Rural          105.92            32.5 never smoked    1     \n",
       "4 Urban          171.23            34.4 smokes          1     \n",
       "5 Rural          174.12            24   never smoked    1     \n",
       "6 Urban          186.21            29   formerly smoked 1     "
      ]
     },
     "metadata": {},
     "output_type": "display_data"
    }
   ],
   "source": [
    "data <- read.csv(\"healthcare-dataset-stroke-data.csv\")\n",
    "head(data)"
   ]
  },
  {
   "cell_type": "markdown",
   "metadata": {},
   "source": [
    "## Information Dataset"
   ]
  },
  {
   "cell_type": "code",
   "execution_count": 31,
   "metadata": {
    "vscode": {
     "languageId": "r"
    }
   },
   "outputs": [
    {
     "name": "stdout",
     "output_type": "stream",
     "text": [
      "'data.frame':\t5110 obs. of  12 variables:\n",
      " $ id               : int  9046 51676 31112 60182 1665 56669 53882 10434 27419 60491 ...\n",
      " $ gender           : chr  \"Male\" \"Female\" \"Male\" \"Female\" ...\n",
      " $ age              : num  67 61 80 49 79 81 74 69 59 78 ...\n",
      " $ hypertension     : int  0 0 0 0 1 0 1 0 0 0 ...\n",
      " $ heart_disease    : int  1 0 1 0 0 0 1 0 0 0 ...\n",
      " $ ever_married     : chr  \"Yes\" \"Yes\" \"Yes\" \"Yes\" ...\n",
      " $ work_type        : chr  \"Private\" \"Self-employed\" \"Private\" \"Private\" ...\n",
      " $ Residence_type   : chr  \"Urban\" \"Rural\" \"Rural\" \"Urban\" ...\n",
      " $ avg_glucose_level: num  229 202 106 171 174 ...\n",
      " $ bmi              : chr  \"36.6\" \"N/A\" \"32.5\" \"34.4\" ...\n",
      " $ smoking_status   : chr  \"formerly smoked\" \"never smoked\" \"never smoked\" \"smokes\" ...\n",
      " $ stroke           : int  1 1 1 1 1 1 1 1 1 1 ...\n"
     ]
    }
   ],
   "source": [
    "str(data)"
   ]
  },
  {
   "cell_type": "code",
   "execution_count": 32,
   "metadata": {
    "vscode": {
     "languageId": "r"
    }
   },
   "outputs": [
    {
     "data": {
      "text/plain": [
       "       id           gender               age         hypertension    \n",
       " Min.   :   67   Length:5110        Min.   : 0.08   Min.   :0.00000  \n",
       " 1st Qu.:17741   Class :character   1st Qu.:25.00   1st Qu.:0.00000  \n",
       " Median :36932   Mode  :character   Median :45.00   Median :0.00000  \n",
       " Mean   :36518                      Mean   :43.23   Mean   :0.09746  \n",
       " 3rd Qu.:54682                      3rd Qu.:61.00   3rd Qu.:0.00000  \n",
       " Max.   :72940                      Max.   :82.00   Max.   :1.00000  \n",
       " heart_disease     ever_married        work_type         Residence_type    \n",
       " Min.   :0.00000   Length:5110        Length:5110        Length:5110       \n",
       " 1st Qu.:0.00000   Class :character   Class :character   Class :character  \n",
       " Median :0.00000   Mode  :character   Mode  :character   Mode  :character  \n",
       " Mean   :0.05401                                                           \n",
       " 3rd Qu.:0.00000                                                           \n",
       " Max.   :1.00000                                                           \n",
       " avg_glucose_level     bmi            smoking_status         stroke       \n",
       " Min.   : 55.12    Length:5110        Length:5110        Min.   :0.00000  \n",
       " 1st Qu.: 77.25    Class :character   Class :character   1st Qu.:0.00000  \n",
       " Median : 91.89    Mode  :character   Mode  :character   Median :0.00000  \n",
       " Mean   :106.15                                          Mean   :0.04873  \n",
       " 3rd Qu.:114.09                                          3rd Qu.:0.00000  \n",
       " Max.   :271.74                                          Max.   :1.00000  "
      ]
     },
     "metadata": {},
     "output_type": "display_data"
    }
   ],
   "source": [
    "summary(data)"
   ]
  },
  {
   "cell_type": "markdown",
   "metadata": {},
   "source": [
    "## Preprocessing"
   ]
  },
  {
   "cell_type": "markdown",
   "metadata": {},
   "source": [
    "### Delete Columns Id"
   ]
  },
  {
   "cell_type": "code",
   "execution_count": 33,
   "metadata": {
    "vscode": {
     "languageId": "r"
    }
   },
   "outputs": [],
   "source": [
    "data$id <- NULL"
   ]
  },
  {
   "cell_type": "code",
   "execution_count": 34,
   "metadata": {
    "vscode": {
     "languageId": "r"
    }
   },
   "outputs": [
    {
     "data": {
      "text/html": [
       "<style>\n",
       ".list-inline {list-style: none; margin:0; padding: 0}\n",
       ".list-inline>li {display: inline-block}\n",
       ".list-inline>li:not(:last-child)::after {content: \"\\00b7\"; padding: 0 .5ex}\n",
       "</style>\n",
       "<ol class=list-inline><li>'gender'</li><li>'hypertension'</li><li>'heart_disease'</li><li>'ever_married'</li><li>'work_type'</li><li>'Residence_type'</li><li>'smoking_status'</li></ol>\n"
      ],
      "text/latex": [
       "\\begin{enumerate*}\n",
       "\\item 'gender'\n",
       "\\item 'hypertension'\n",
       "\\item 'heart\\_disease'\n",
       "\\item 'ever\\_married'\n",
       "\\item 'work\\_type'\n",
       "\\item 'Residence\\_type'\n",
       "\\item 'smoking\\_status'\n",
       "\\end{enumerate*}\n"
      ],
      "text/markdown": [
       "1. 'gender'\n",
       "2. 'hypertension'\n",
       "3. 'heart_disease'\n",
       "4. 'ever_married'\n",
       "5. 'work_type'\n",
       "6. 'Residence_type'\n",
       "7. 'smoking_status'\n",
       "\n",
       "\n"
      ],
      "text/plain": [
       "[1] \"gender\"         \"hypertension\"   \"heart_disease\"  \"ever_married\"  \n",
       "[5] \"work_type\"      \"Residence_type\" \"smoking_status\""
      ]
     },
     "metadata": {},
     "output_type": "display_data"
    }
   ],
   "source": [
    "# Hitung jumlah nilai unik per kolom\n",
    "unique_counts <- sapply(data, function(x) length(unique(x)))\n",
    "\n",
    "# Threshold untuk membedakan antara kolom kontinu dan kategorikal\n",
    "threshold <- 10\n",
    "\n",
    "# Mendapatkan nama kolom dengan jumlah nilai unik lebih dari threshold (kolom numerik)\n",
    "num_cols <- names(unique_counts[unique_counts > threshold])\n",
    "\n",
    "# Mendapatkan nama kolom dengan jumlah nilai unik kurang atau sama dengan threshold (kolom kategorikal)\n",
    "cat_cols <- names(unique_counts[unique_counts <= threshold])\n",
    "\n",
    "# Menghapus 'stroke' dari kolom kategorikal (jika ada)\n",
    "cat_cols <- setdiff(cat_cols, \"stroke\")\n",
    "\n",
    "# Mengkonversi kolom-kolom kategorikal menjadi tipe faktor\n",
    "for(col in cat_cols) {\n",
    "  data[[col]] <- as.factor(data[[col]])\n",
    "}\n",
    "\n",
    "cat_cols"
   ]
  },
  {
   "cell_type": "code",
   "execution_count": 35,
   "metadata": {
    "vscode": {
     "languageId": "r"
    }
   },
   "outputs": [
    {
     "data": {
      "text/html": [
       "<style>\n",
       ".list-inline {list-style: none; margin:0; padding: 0}\n",
       ".list-inline>li {display: inline-block}\n",
       ".list-inline>li:not(:last-child)::after {content: \"\\00b7\"; padding: 0 .5ex}\n",
       "</style>\n",
       "<ol class=list-inline><li>'age'</li><li>'avg_glucose_level'</li><li>'bmi'</li></ol>\n"
      ],
      "text/latex": [
       "\\begin{enumerate*}\n",
       "\\item 'age'\n",
       "\\item 'avg\\_glucose\\_level'\n",
       "\\item 'bmi'\n",
       "\\end{enumerate*}\n"
      ],
      "text/markdown": [
       "1. 'age'\n",
       "2. 'avg_glucose_level'\n",
       "3. 'bmi'\n",
       "\n",
       "\n"
      ],
      "text/plain": [
       "[1] \"age\"               \"avg_glucose_level\" \"bmi\"              "
      ]
     },
     "metadata": {},
     "output_type": "display_data"
    }
   ],
   "source": [
    "num_cols"
   ]
  },
  {
   "cell_type": "code",
   "execution_count": 36,
   "metadata": {
    "vscode": {
     "languageId": "r"
    }
   },
   "outputs": [
    {
     "name": "stderr",
     "output_type": "stream",
     "text": [
      "Warning message in eval(expr, envir, enclos):\n",
      "\"NAs introduced by coercion\"\n"
     ]
    },
    {
     "data": {
      "text/html": [
       "<style>\n",
       ".dl-inline {width: auto; margin:0; padding: 0}\n",
       ".dl-inline>dt, .dl-inline>dd {float: none; width: auto; display: inline-block}\n",
       ".dl-inline>dt::after {content: \":\\0020\"; padding-right: .5ex}\n",
       ".dl-inline>dt:not(:first-of-type) {padding-left: .5ex}\n",
       "</style><dl class=dl-inline><dt>gender</dt><dd>0</dd><dt>age</dt><dd>0</dd><dt>hypertension</dt><dd>0</dd><dt>heart_disease</dt><dd>0</dd><dt>ever_married</dt><dd>0</dd><dt>work_type</dt><dd>0</dd><dt>Residence_type</dt><dd>0</dd><dt>avg_glucose_level</dt><dd>0</dd><dt>bmi</dt><dd>201</dd><dt>smoking_status</dt><dd>0</dd><dt>stroke</dt><dd>0</dd></dl>\n"
      ],
      "text/latex": [
       "\\begin{description*}\n",
       "\\item[gender] 0\n",
       "\\item[age] 0\n",
       "\\item[hypertension] 0\n",
       "\\item[heart\\textbackslash{}\\_disease] 0\n",
       "\\item[ever\\textbackslash{}\\_married] 0\n",
       "\\item[work\\textbackslash{}\\_type] 0\n",
       "\\item[Residence\\textbackslash{}\\_type] 0\n",
       "\\item[avg\\textbackslash{}\\_glucose\\textbackslash{}\\_level] 0\n",
       "\\item[bmi] 201\n",
       "\\item[smoking\\textbackslash{}\\_status] 0\n",
       "\\item[stroke] 0\n",
       "\\end{description*}\n"
      ],
      "text/markdown": [
       "gender\n",
       ":   0age\n",
       ":   0hypertension\n",
       ":   0heart_disease\n",
       ":   0ever_married\n",
       ":   0work_type\n",
       ":   0Residence_type\n",
       ":   0avg_glucose_level\n",
       ":   0bmi\n",
       ":   201smoking_status\n",
       ":   0stroke\n",
       ":   0\n",
       "\n"
      ],
      "text/plain": [
       "           gender               age      hypertension     heart_disease \n",
       "                0                 0                 0                 0 \n",
       "     ever_married         work_type    Residence_type avg_glucose_level \n",
       "                0                 0                 0                 0 \n",
       "              bmi    smoking_status            stroke \n",
       "              201                 0                 0 "
      ]
     },
     "metadata": {},
     "output_type": "display_data"
    }
   ],
   "source": [
    "# Konversi kolom numerik ke tipe numeric\n",
    "for (col in num_cols) {\n",
    "  data[[col]] <- as.numeric(data[[col]])\n",
    "}\n",
    "\n",
    "# Cek jumlah nilai yang hilang di setiap kolom\n",
    "sapply(data, function(x) sum(is.na(x)))"
   ]
  },
  {
   "cell_type": "markdown",
   "metadata": {},
   "source": [
    "### Visualization Distribution BMI"
   ]
  },
  {
   "cell_type": "code",
   "execution_count": 37,
   "metadata": {
    "vscode": {
     "languageId": "r"
    }
   },
   "outputs": [
    {
     "data": {
      "image/png": "[encoded data removed]",
      "text/plain": [
       "Plot with title \"Distribution of BMI\""
      ]
     },
     "metadata": {
      "image/png": {
       "height": 420,
       "width": 420
      }
     },
     "output_type": "display_data"
    }
   ],
   "source": [
    "hist(data$bmi, breaks = 10, xlab = \"BMI\", ylab = \"Count\", main = \"Distribution of BMI\", col = \"skyblue\", border = \"white\")"
   ]
  },
  {
   "cell_type": "markdown",
   "metadata": {},
   "source": [
    " Distribusi nilai Body Mass Index (BMI) dalam sebuah dataset. Sumbu x(Horizontal) mewakili nilai BMI, berkisar dari 0 hingga 100, dengan garis grid utama pada interval 20 (0, 20, 40, 60, 80, 100), sedangkan sumbu y menunjukkan jumlah individu, berkisar dari 0 hingga 2500, dengan interval 500 (0, 500, 1000, 1500, 2000, 2500). Histogram ini terdiri dari bar-bar berwarna biru muda yang menggambarkan frekuensi individu dalam rentang nilai BMI tertentu. Data sebagian besar terkonsentrasi pada rentang BMI sekitar 20 hingga 50, dengan puncak tertinggi terletak di sekitar BMI 30, di mana jumlah individu mendekati 2500. Distribusi ini menunjukkan kemiringan ke kanan (right skew), ditandai dengan penurunan frekuensi yang gradual setelah puncak, dengan semakin sedikit individu yang memiliki BMI di atas 50. Hanya sedikit individu yang memiliki BMI mendekati 80, dan hampir tidak ada yang melebihi nilai tersebut, sebagaimana terlihat dari bar yang mengecil signifikan pada rentang BMI tinggi. Pola ini mengindikasikan bahwa dataset kemungkinan mewakili populasi dengan mayoritas individu memiliki BMI dalam kategori normal hingga overweight, dan hanya sebagian kecil yang termasuk dalam kategori obesitas atau obesitas ekstrem."
   ]
  },
  {
   "cell_type": "code",
   "execution_count": 38,
   "metadata": {
    "vscode": {
     "languageId": "r"
    }
   },
   "outputs": [],
   "source": [
    "data$bmi[is.na(data$bmi)] <- median(data$bmi, na.rm = TRUE)"
   ]
  },
  {
   "cell_type": "markdown",
   "metadata": {},
   "source": [
    "### Check Duplicate Values"
   ]
  },
  {
   "cell_type": "code",
   "execution_count": 39,
   "metadata": {
    "vscode": {
     "languageId": "r"
    }
   },
   "outputs": [
    {
     "data": {
      "text/html": [
       "0"
      ],
      "text/latex": [
       "0"
      ],
      "text/markdown": [
       "0"
      ],
      "text/plain": [
       "[1] 0"
      ]
     },
     "metadata": {},
     "output_type": "display_data"
    }
   ],
   "source": [
    "sum(duplicated(data))"
   ]
  },
  {
   "cell_type": "markdown",
   "metadata": {},
   "source": [
    "### Memastikan Variable Target menjadi kategorical"
   ]
  },
  {
   "cell_type": "code",
   "execution_count": 40,
   "metadata": {
    "vscode": {
     "languageId": "r"
    }
   },
   "outputs": [],
   "source": [
    "data$stroke <- as.factor(data$stroke)"
   ]
  },
  {
   "cell_type": "markdown",
   "metadata": {},
   "source": [
    "### Distribusi Variable Target"
   ]
  },
  {
   "cell_type": "code",
   "execution_count": 41,
   "metadata": {
    "vscode": {
     "languageId": "r"
    }
   },
   "outputs": [
    {
     "data": {
      "image/png": "[encoded data removed]",
      "text/plain": [
       "plot without title"
      ]
     },
     "metadata": {
      "image/png": {
       "height": 420,
       "width": 420
      }
     },
     "output_type": "display_data"
    }
   ],
   "source": [
    "library(ggplot2)\n",
    "library(dplyr)\n",
    "\n",
    "# Hitung frekuensi untuk setiap kategori pada variabel 'stroke'\n",
    "df_counts <- data %>%\n",
    "  count(stroke) %>%\n",
    "  mutate(percent = n / sum(n) * 100)\n",
    "\n",
    "# Buat plot histogram untuk variabel 'stroke'\n",
    "ggplot(data, aes(x = stroke)) +\n",
    "  geom_bar(fill = \"skyblue\", color = \"white\") +\n",
    "  # Tambahkan label untuk menampilkan jumlah dan persentase\n",
    "  geom_text(data = df_counts, aes(label = paste0(n, \"\\n\", round(percent, 2), \"%\"), y = n), \n",
    "            vjust = -0.5, size = 4) +\n",
    "  labs(x = \"Stroke\", y = \"Count\", title = \"Distribution of Stroke\") +\n",
    "  theme_minimal()"
   ]
  },
  {
   "cell_type": "markdown",
   "metadata": {},
   "source": [
    "Ketidakseimbangan Kelas (Class Imbalance)\n",
    "Histogram ini menunjukkan adanya ketidakseimbangan kelas yang signifikan, di mana kelas mayoritas (tidak ada stroke, 95.13%) jauh lebih dominan dibandingkan kelas minoritas (ada stroke, 4.87%). Ketidakseimbangan ini dapat menjadi tantangan dalam membangun model machine learning karena:\n",
    "\n",
    "Model cenderung bias terhadap kelas mayoritas, sehingga sering kali gagal mendeteksi kelas minoritas (stroke) yang justru lebih kritis dalam konteks medis.\n",
    "Tanpa penanganan khusus, model mungkin memiliki akurasi tinggi hanya karena memprediksi \"tidak ada stroke\" untuk sebagian besar kasus, tetapi gagal mengidentifikasi pasien yang benar-benar berisiko stroke."
   ]
  },
  {
   "cell_type": "code",
   "execution_count": 42,
   "metadata": {
    "vscode": {
     "languageId": "r"
    }
   },
   "outputs": [
    {
     "data": {
      "image/png": "[encoded data removed]",
      "text/plain": [
       "plot without title"
      ]
     },
     "metadata": {
      "image/png": {
       "height": 420,
       "width": 420
      }
     },
     "output_type": "display_data"
    }
   ],
   "source": [
    "library(ggplot2)\n",
    "library(gridExtra)\n",
    "\n",
    "# Membuat list untuk menyimpan plot\n",
    "plots <- list()\n",
    "\n",
    "# Loop melalui setiap kolom kategorikal\n",
    "for (i in seq_along(cat_cols)) {\n",
    "  col_name <- cat_cols[i]\n",
    "  # Hitung maksimum frekuensi untuk kolom ini, digunakan untuk setting batas sumbu-y\n",
    "  max_count <- max(table(data[[col_name]]))\n",
    "  \n",
    "  p <- ggplot(data, aes_string(x = col_name, fill = \"stroke\")) +\n",
    "    geom_bar(position = \"dodge\") +\n",
    "    scale_fill_brewer(palette = \"YlGnBu\") +\n",
    "    labs(x = col_name, y = \"Count\") +\n",
    "    ylim(0, max_count + 10) +\n",
    "    theme_minimal() +\n",
    "    theme(axis.text.x = element_text(angle = 45, size = 7),\n",
    "          legend.text = element_text(size = 7),\n",
    "          legend.title = element_text(size = 7))\n",
    "  \n",
    "  plots[[i]] <- p\n",
    "}\n",
    "\n",
    "# Menampilkan plot dalam 2 baris dan 4 kolom (sesuaikan jumlah kolom jika perlu)\n",
    "grid.arrange(grobs = plots, nrow = 2, ncol = 4)"
   ]
  },
  {
   "cell_type": "markdown",
   "metadata": {},
   "source": [
    "Visualisasi ini terdiri dari tujuh histogram yang menggambarkan distribusi variabel kategorikal dalam dataset terkait kejadian stroke, di mana kategori \"0\" mewakili individu tanpa stroke (ditandai dengan warna kuning) dan kategori \"1\" mewakili individu dengan stroke (ditandai dengan warna teal). Variabel yang dianalisis mencakup gender, hypertension, heart disease, ever married, work type, residence type, dan smoking status. Setiap histogram menunjukkan jumlah individu (count) pada sumbu y(Vertijkl) dan kategori variabel pada sumbu x. Ketidakseimbangan Kelas yang Jelas\n"
   ]
  },
  {
   "cell_type": "markdown",
   "metadata": {},
   "source": [
    "## Indentify Outliers"
   ]
  },
  {
   "cell_type": "code",
   "execution_count": 43,
   "metadata": {
    "vscode": {
     "languageId": "r"
    }
   },
   "outputs": [
    {
     "data": {
      "image/png": "[encoded data removed]",
      "text/plain": [
       "Plot with title \"Boxplot of Data\""
      ]
     },
     "metadata": {
      "image/png": {
       "height": 420,
       "width": 420
      }
     },
     "output_type": "display_data"
    }
   ],
   "source": [
    "boxplot(data, main = \"Boxplot of Data\")"
   ]
  },
  {
   "cell_type": "code",
   "execution_count": 44,
   "metadata": {
    "vscode": {
     "languageId": "r"
    }
   },
   "outputs": [
    {
     "data": {
      "image/png": "[encoded data removed]",
      "text/plain": [
       "plot without title"
      ]
     },
     "metadata": {
      "image/png": {
       "height": 420,
       "width": 420
      }
     },
     "output_type": "display_data"
    }
   ],
   "source": [
    "library(ggplot2)\n",
    "library(reshape2)\n",
    "\n",
    "# Ubah data ke format long, hanya untuk kolom numerik\n",
    "data_long <- melt(data, measure.vars = num_cols)\n",
    "\n",
    "ggplot(data_long, aes(x = variable, y = value)) +\n",
    "  geom_boxplot() +\n",
    "  labs(title = \"Boxplot of Data\") +\n",
    "  theme_minimal() +\n",
    "  theme(axis.text.x = element_text(angle = 45, hjust = 1))"
   ]
  },
  {
   "cell_type": "markdown",
   "metadata": {},
   "source": [
    "###  Interpretasi Boxplot\n",
    "interpretasi singkat untuk setiap variabel:\n",
    "\n",
    "* **Age:** Distribusi usia terlihat relatif simetris. Kotak (yang mencakup 50% data) berada di rentang nilai yang cukup lebar, menunjukkan variasi usia dalam dataset. Tidak terlihat adanya outlier yang signifikan pada visualisasi ini.\n",
    "\n",
    "* **Avg\\_glucose\\_level:** Distribusi tingkat glukosa rata-rata menunjukkan sebaran data yang lebih luas dibandingkan usia. Median (garis tengah dalam kotak) berada di sekitar nilai 90-100. Yang paling mencolok adalah adanya beberapa outlier dengan nilai glukosa yang sangat tinggi, yang ditunjukkan oleh titik-titik di atas whisker atas. Ini mengindikasikan adanya beberapa individu dengan tingkat glukosa yang jauh lebih tinggi dari mayoritas data.\n",
    "\n",
    "* **BMI:** Distribusi Indeks Massa Tubuh (BMI) terlihat memiliki median di sekitar nilai 25. Sebaran data (panjang kotak) relatif lebih kecil dibandingkan tingkat glukosa. Terdapat juga beberapa outlier dengan nilai BMI yang lebih tinggi, meskipun tidak sebanyak pada variabel tingkat glukosa."
   ]
  },
  {
   "cell_type": "markdown",
   "metadata": {},
   "source": [
    "### Berapa banyak outlier?"
   ]
  },
  {
   "cell_type": "code",
   "execution_count": 45,
   "metadata": {
    "vscode": {
     "languageId": "r"
    }
   },
   "outputs": [
    {
     "name": "stdout",
     "output_type": "stream",
     "text": [
      "Number of rows in the data containing outliers in avg_glucose_level: 627\n",
      "Number of rows in the data containing outliers in bmi: 126\n"
     ]
    }
   ],
   "source": [
    "for (var in c(\"avg_glucose_level\", \"bmi\")) {\n",
    "  percentile25 <- quantile(data[[var]], 0.25, na.rm = TRUE)\n",
    "  percentile75 <- quantile(data[[var]], 0.75, na.rm = TRUE)\n",
    "  iqr <- percentile75 - percentile25\n",
    "  upper_limit <- percentile75 + 1.5 * iqr\n",
    "  lower_limit <- percentile25 - 1.5 * iqr\n",
    "  \n",
    "  outliers <- data[data[[var]] > upper_limit | data[[var]] < lower_limit, ]\n",
    "  \n",
    "  cat(sprintf(\"Number of rows in the data containing outliers in %s: %d\\n\", \n",
    "              var, nrow(outliers)))\n",
    "}"
   ]
  },
  {
   "cell_type": "markdown",
   "metadata": {},
   "source": [
    "### Remove Outliers"
   ]
  },
  {
   "cell_type": "code",
   "execution_count": 46,
   "metadata": {
    "vscode": {
     "languageId": "r"
    }
   },
   "outputs": [
    {
     "name": "stdout",
     "output_type": "stream",
     "text": [
      "Number of rows after removing outliers: 4383 \n"
     ]
    }
   ],
   "source": [
    "for (col in c(\"avg_glucose_level\", \"bmi\")) {\n",
    "  q1 <- quantile(data[[col]], 0.25, na.rm = TRUE)\n",
    "  q3 <- quantile(data[[col]], 0.75, na.rm = TRUE)\n",
    "  iqr <- q3 - q1\n",
    "  lower_bound <- q1 - 1.5 * iqr\n",
    "  upper_bound <- q3 + 1.5 * iqr\n",
    "  data <- data[data[[col]] >= lower_bound & data[[col]] <= upper_bound, ]\n",
    "}\n",
    "\n",
    "cat(\"Number of rows after removing outliers:\", nrow(data), \"\\n\")"
   ]
  },
  {
   "cell_type": "code",
   "execution_count": 47,
   "metadata": {
    "vscode": {
     "languageId": "r"
    }
   },
   "outputs": [
    {
     "data": {
      "image/png": "[encoded data removed]",
      "text/plain": [
       "Plot with title \"\""
      ]
     },
     "metadata": {
      "image/png": {
       "height": 420,
       "width": 420
      }
     },
     "output_type": "display_data"
    }
   ],
   "source": [
    "library(corrplot)\n",
    "\n",
    "# Hitung matriks korelasi untuk kolom numerik\n",
    "cor_matrix <- cor(data[, num_cols], use = \"complete.obs\")\n",
    "\n",
    "# Plot heatmap korelasi\n",
    "corrplot(cor_matrix, \n",
    "         method = \"color\", \n",
    "         col = colorRampPalette(c(\"yellow\", \"green\", \"blue\"))(200), \n",
    "         addCoef.col = \"black\",    # Menambahkan nilai koefisien pada plot\n",
    "         tl.col = \"black\",         # Warna label sumbu\n",
    "         tl.srt = 45,              # Rotasi label sumbu\n",
    "         mar = c(0,0,1,0))         # Margin plot"
   ]
  },
  {
   "cell_type": "markdown",
   "metadata": {},
   "source": [
    "beberapa poin penting:\n",
    "\n",
    "1. Usia dan BMI menunjukkan korelasi positif yang moderat. Ini mengindikasikan adanya kecenderungan, meskipun tidak terlalu kuat, bahwa seiring bertambahnya usia, BMI juga cenderung sedikit meningkat.                   \n",
    "\n",
    "2. Hubungan antara usia dan tingkat glukosa rata-rata sangat lemah. Ini berarti tidak ada keterkaitan linier yang signifikan antara usia dan tingkat glukosa dalam data ini.                       \n",
    "\n",
    "3. Tidak ada korelasi yang berarti antara tingkat glukosa rata-rata dan BMI. Ini menunjukkan bahwa dalam dataset ini, tingkat glukosa dan BMI tidak secara langsung mempengaruhi satu sama lain secara linier."
   ]
  },
  {
   "cell_type": "markdown",
   "metadata": {},
   "source": [
    "### Penanganan Imbalance Kelas dengan SMOTE\n"
   ]
  },
  {
   "cell_type": "code",
   "execution_count": 48,
   "metadata": {
    "vscode": {
     "languageId": "r"
    }
   },
   "outputs": [],
   "source": [
    "# Pilih kolom numerik dari data\n",
    "df_num <- data[, num_cols, drop = FALSE]\n",
    "\n",
    "# Terapkan standard scaling menggunakan fungsi scale()\n",
    "df_num <- as.data.frame(scale(df_num))"
   ]
  },
  {
   "cell_type": "code",
   "execution_count": 49,
   "metadata": {
    "vscode": {
     "languageId": "r"
    }
   },
   "outputs": [],
   "source": [
    "library(caret)\n",
    "dummy <- dummyVars(\" ~ .\", data = data[, cat_cols], fullRank = TRUE)\n",
    "df_cat <- data.frame(predict(dummy, newdata = data[, cat_cols]))"
   ]
  },
  {
   "cell_type": "code",
   "execution_count": 50,
   "metadata": {
    "vscode": {
     "languageId": "r"
    }
   },
   "outputs": [],
   "source": [
    "X <- cbind(df_num, df_cat)\n",
    "y <- data[, \"stroke\", drop = FALSE]"
   ]
  },
  {
   "cell_type": "code",
   "execution_count": 51,
   "metadata": {
    "vscode": {
     "languageId": "r"
    }
   },
   "outputs": [
    {
     "name": "stdout",
     "output_type": "stream",
     "text": [
      "Number of rows after SMOTE: 8483 \n"
     ]
    }
   ],
   "source": [
    "library(smotefamily)\n",
    "\n",
    "# Gabungkan fitur (X) dan target (y) ke dalam satu data frame\n",
    "data_combined <- cbind(X, stroke = y)\n",
    "data_combined$stroke <- as.factor(data_combined$stroke)  # pastikan target bertipe faktor\n",
    "\n",
    "# Hitung jumlah masing-masing kelas pada target\n",
    "tbl <- table(data_combined$stroke)\n",
    "majority <- max(tbl)\n",
    "minority <- min(tbl)\n",
    "\n",
    "# Hitung dup_size agar kelas minoritas dinaikkan hingga seimbang dengan mayoritas\n",
    "dup_size <- round(majority / minority) - 1\n",
    "\n",
    "# Terapkan SMOTE dengan parameter yang telah dihitung\n",
    "smote_output <- SMOTE(\n",
    "  X = data_combined[, setdiff(names(data_combined), \"stroke\")],\n",
    "  target = data_combined$stroke,\n",
    "  K = 5,\n",
    "  dup_size = dup_size\n",
    ")\n",
    "\n",
    "# Hasil SMOTE terdapat pada properti 'data'\n",
    "data_smote <- smote_output$data\n",
    "\n",
    "# Pisahkan kembali fitur dan target\n",
    "X_smote <- data_smote[, -ncol(data_smote)]\n",
    "y_smote <- data_smote[, ncol(data_smote)]\n",
    "\n",
    "cat(\"Number of rows after SMOTE:\", nrow(data_smote), \"\\n\")"
   ]
  },
  {
   "cell_type": "code",
   "execution_count": 52,
   "metadata": {
    "vscode": {
     "languageId": "r"
    }
   },
   "outputs": [
    {
     "data": {
      "text/plain": [
       "y_smote\n",
       "   0    1 \n",
       "4219 4264 "
      ]
     },
     "metadata": {},
     "output_type": "display_data"
    }
   ],
   "source": [
    "table(y_smote)"
   ]
  },
  {
   "cell_type": "markdown",
   "metadata": {},
   "source": [
    "## Modeling Klasifikasi"
   ]
  },
  {
   "cell_type": "code",
   "execution_count": 53,
   "metadata": {
    "vscode": {
     "languageId": "r"
    }
   },
   "outputs": [],
   "source": [
    "library(caret)\n",
    "\n",
    "set.seed(42)\n",
    "trainIndex <- createDataPartition(y_smote, p = 0.75, list = FALSE)\n",
    "X_train <- X_smote[trainIndex, ]\n",
    "X_test  <- X_smote[-trainIndex, ]\n",
    "y_train <- y_smote[trainIndex]\n",
    "y_test  <- y_smote[-trainIndex]"
   ]
  },
  {
   "cell_type": "code",
   "execution_count": 54,
   "metadata": {
    "vscode": {
     "languageId": "r"
    }
   },
   "outputs": [],
   "source": [
    "get_test_scores <- function(model_name, preds, y_test_data, auc) {\n",
    "  # Pastikan library caret sudah terinstal dan dimuat\n",
    "  library(caret)\n",
    "  \n",
    "  # Ubah prediksi dan data aktual menjadi faktor\n",
    "  preds <- as.factor(preds)\n",
    "  y_test_data <- as.factor(y_test_data)\n",
    "  \n",
    "  # Hitung confusion matrix (pastikan mendefinisikan kelas positif jika diperlukan)\n",
    "  cm <- confusionMatrix(preds, y_test_data, positive = \"1\")\n",
    "  \n",
    "  # Ekstrak metrik yang dibutuhkan\n",
    "  precision <- cm$byClass[\"Precision\"]\n",
    "  recall <- cm$byClass[\"Recall\"]\n",
    "  f1_score <- cm$byClass[\"F1\"]\n",
    "  accuracy <- cm$overall[\"Accuracy\"]\n",
    "  \n",
    "  # Buat data frame laporan\n",
    "  report <- data.frame(\n",
    "    Model = model_name,\n",
    "    Precision = precision,\n",
    "    Recall = recall,\n",
    "    F1.Score = f1_score,\n",
    "    Accuracy = accuracy,\n",
    "    AUC = auc,\n",
    "    row.names = NULL,\n",
    "    stringsAsFactors = FALSE\n",
    "  )\n",
    "  \n",
    "  return(report)\n",
    "}"
   ]
  },
  {
   "cell_type": "code",
   "execution_count": 55,
   "metadata": {
    "vscode": {
     "languageId": "r"
    }
   },
   "outputs": [
    {
     "name": "stderr",
     "output_type": "stream",
     "text": [
      "Setting levels: control = 0, case = 1\n",
      "\n",
      "Setting direction: controls < cases\n",
      "\n",
      "Setting levels: control = 0, case = 1\n",
      "\n",
      "Setting direction: controls < cases\n",
      "\n",
      "Setting levels: control = 0, case = 1\n",
      "\n",
      "Setting direction: controls < cases\n",
      "\n",
      "Setting levels: control = 0, case = 1\n",
      "\n",
      "Setting direction: controls < cases\n",
      "\n",
      "Setting levels: control = 0, case = 1\n",
      "\n",
      "Setting direction: controls < cases\n",
      "\n"
     ]
    },
    {
     "data": {
      "text/html": [
       "<dl>\n",
       "\t<dt>$LogisticRegression</dt>\n",
       "\t\t<dd><table class=\"dataframe\">\n",
       "<caption>A data.frame: 1 × 6</caption>\n",
       "<thead>\n",
       "\t<tr><th></th><th scope=col>Model</th><th scope=col>Precision</th><th scope=col>Recall</th><th scope=col>F1.Score</th><th scope=col>Accuracy</th><th scope=col>AUC</th></tr>\n",
       "\t<tr><th></th><th scope=col>&lt;chr&gt;</th><th scope=col>&lt;dbl&gt;</th><th scope=col>&lt;dbl&gt;</th><th scope=col>&lt;dbl&gt;</th><th scope=col>&lt;dbl&gt;</th><th scope=col>&lt;auc&gt;</th></tr>\n",
       "</thead>\n",
       "<tbody>\n",
       "\t<tr><th scope=row>Precision</th><td>LogisticRegression</td><td>0.7778777</td><td>0.8114447</td><td>0.7943067</td><td>0.7886792</td><td>0.8704373</td></tr>\n",
       "</tbody>\n",
       "</table>\n",
       "</dd>\n",
       "\t<dt>$DecisionTreeClassifier</dt>\n",
       "\t\t<dd><table class=\"dataframe\">\n",
       "<caption>A data.frame: 1 × 6</caption>\n",
       "<thead>\n",
       "\t<tr><th></th><th scope=col>Model</th><th scope=col>Precision</th><th scope=col>Recall</th><th scope=col>F1.Score</th><th scope=col>Accuracy</th><th scope=col>AUC</th></tr>\n",
       "\t<tr><th></th><th scope=col>&lt;chr&gt;</th><th scope=col>&lt;dbl&gt;</th><th scope=col>&lt;dbl&gt;</th><th scope=col>&lt;dbl&gt;</th><th scope=col>&lt;dbl&gt;</th><th scope=col>&lt;auc&gt;</th></tr>\n",
       "</thead>\n",
       "<tbody>\n",
       "\t<tr><th scope=row>Precision</th><td>DecisionTreeClassifier</td><td>0.7697842</td><td>0.9033771</td><td>0.8312473</td><td>0.815566</td><td>0.8552308</td></tr>\n",
       "</tbody>\n",
       "</table>\n",
       "</dd>\n",
       "\t<dt>$SVC</dt>\n",
       "\t\t<dd><table class=\"dataframe\">\n",
       "<caption>A data.frame: 1 × 6</caption>\n",
       "<thead>\n",
       "\t<tr><th></th><th scope=col>Model</th><th scope=col>Precision</th><th scope=col>Recall</th><th scope=col>F1.Score</th><th scope=col>Accuracy</th><th scope=col>AUC</th></tr>\n",
       "\t<tr><th></th><th scope=col>&lt;chr&gt;</th><th scope=col>&lt;dbl&gt;</th><th scope=col>&lt;dbl&gt;</th><th scope=col>&lt;dbl&gt;</th><th scope=col>&lt;dbl&gt;</th><th scope=col>&lt;auc&gt;</th></tr>\n",
       "</thead>\n",
       "<tbody>\n",
       "\t<tr><th scope=row>Precision</th><td>SVC</td><td>0.8985507</td><td>0.9305816</td><td>0.9142857</td><td>0.9122642</td><td>0.9713456</td></tr>\n",
       "</tbody>\n",
       "</table>\n",
       "</dd>\n",
       "\t<dt>$GaussianNB</dt>\n",
       "\t\t<dd><table class=\"dataframe\">\n",
       "<caption>A data.frame: 1 × 6</caption>\n",
       "<thead>\n",
       "\t<tr><th></th><th scope=col>Model</th><th scope=col>Precision</th><th scope=col>Recall</th><th scope=col>F1.Score</th><th scope=col>Accuracy</th><th scope=col>AUC</th></tr>\n",
       "\t<tr><th></th><th scope=col>&lt;chr&gt;</th><th scope=col>&lt;dbl&gt;</th><th scope=col>&lt;dbl&gt;</th><th scope=col>&lt;dbl&gt;</th><th scope=col>&lt;dbl&gt;</th><th scope=col>&lt;auc&gt;</th></tr>\n",
       "</thead>\n",
       "<tbody>\n",
       "\t<tr><th scope=row>Precision</th><td>GaussianNB</td><td>0.6009096</td><td>0.9915572</td><td>0.7483186</td><td>0.6646226</td><td>0.8159829</td></tr>\n",
       "</tbody>\n",
       "</table>\n",
       "</dd>\n",
       "\t<dt>$RandomForestClassifier</dt>\n",
       "\t\t<dd><table class=\"dataframe\">\n",
       "<caption>A data.frame: 1 × 6</caption>\n",
       "<thead>\n",
       "\t<tr><th></th><th scope=col>Model</th><th scope=col>Precision</th><th scope=col>Recall</th><th scope=col>F1.Score</th><th scope=col>Accuracy</th><th scope=col>AUC</th></tr>\n",
       "\t<tr><th></th><th scope=col>&lt;chr&gt;</th><th scope=col>&lt;dbl&gt;</th><th scope=col>&lt;dbl&gt;</th><th scope=col>&lt;dbl&gt;</th><th scope=col>&lt;dbl&gt;</th><th scope=col>&lt;auc&gt;</th></tr>\n",
       "</thead>\n",
       "<tbody>\n",
       "\t<tr><th scope=row>Precision</th><td>RandomForestClassifier</td><td>0.9604416</td><td>0.9793621</td><td>0.9698096</td><td>0.9693396</td><td>0.9966771</td></tr>\n",
       "</tbody>\n",
       "</table>\n",
       "</dd>\n",
       "</dl>\n"
      ],
      "text/latex": [
       "\\begin{description}\n",
       "\\item[\\$LogisticRegression] A data.frame: 1 × 6\n",
       "\\begin{tabular}{r|llllll}\n",
       "  & Model & Precision & Recall & F1.Score & Accuracy & AUC\\\\\n",
       "  & <chr> & <dbl> & <dbl> & <dbl> & <dbl> & <auc>\\\\\n",
       "\\hline\n",
       "\tPrecision & LogisticRegression & 0.7778777 & 0.8114447 & 0.7943067 & 0.7886792 & 0.8704373\\\\\n",
       "\\end{tabular}\n",
       "\n",
       "\\item[\\$DecisionTreeClassifier] A data.frame: 1 × 6\n",
       "\\begin{tabular}{r|llllll}\n",
       "  & Model & Precision & Recall & F1.Score & Accuracy & AUC\\\\\n",
       "  & <chr> & <dbl> & <dbl> & <dbl> & <dbl> & <auc>\\\\\n",
       "\\hline\n",
       "\tPrecision & DecisionTreeClassifier & 0.7697842 & 0.9033771 & 0.8312473 & 0.815566 & 0.8552308\\\\\n",
       "\\end{tabular}\n",
       "\n",
       "\\item[\\$SVC] A data.frame: 1 × 6\n",
       "\\begin{tabular}{r|llllll}\n",
       "  & Model & Precision & Recall & F1.Score & Accuracy & AUC\\\\\n",
       "  & <chr> & <dbl> & <dbl> & <dbl> & <dbl> & <auc>\\\\\n",
       "\\hline\n",
       "\tPrecision & SVC & 0.8985507 & 0.9305816 & 0.9142857 & 0.9122642 & 0.9713456\\\\\n",
       "\\end{tabular}\n",
       "\n",
       "\\item[\\$GaussianNB] A data.frame: 1 × 6\n",
       "\\begin{tabular}{r|llllll}\n",
       "  & Model & Precision & Recall & F1.Score & Accuracy & AUC\\\\\n",
       "  & <chr> & <dbl> & <dbl> & <dbl> & <dbl> & <auc>\\\\\n",
       "\\hline\n",
       "\tPrecision & GaussianNB & 0.6009096 & 0.9915572 & 0.7483186 & 0.6646226 & 0.8159829\\\\\n",
       "\\end{tabular}\n",
       "\n",
       "\\item[\\$RandomForestClassifier] A data.frame: 1 × 6\n",
       "\\begin{tabular}{r|llllll}\n",
       "  & Model & Precision & Recall & F1.Score & Accuracy & AUC\\\\\n",
       "  & <chr> & <dbl> & <dbl> & <dbl> & <dbl> & <auc>\\\\\n",
       "\\hline\n",
       "\tPrecision & RandomForestClassifier & 0.9604416 & 0.9793621 & 0.9698096 & 0.9693396 & 0.9966771\\\\\n",
       "\\end{tabular}\n",
       "\n",
       "\\end{description}\n"
      ],
      "text/markdown": [
       "$LogisticRegression\n",
       ":   \n",
       "A data.frame: 1 × 6\n",
       "\n",
       "| <!--/--> | Model &lt;chr&gt; | Precision &lt;dbl&gt; | Recall &lt;dbl&gt; | F1.Score &lt;dbl&gt; | Accuracy &lt;dbl&gt; | AUC &lt;auc&gt; |\n",
       "|---|---|---|---|---|---|---|\n",
       "| Precision | LogisticRegression | 0.7778777 | 0.8114447 | 0.7943067 | 0.7886792 | 0.8704373 |\n",
       "\n",
       "\n",
       "$DecisionTreeClassifier\n",
       ":   \n",
       "A data.frame: 1 × 6\n",
       "\n",
       "| <!--/--> | Model &lt;chr&gt; | Precision &lt;dbl&gt; | Recall &lt;dbl&gt; | F1.Score &lt;dbl&gt; | Accuracy &lt;dbl&gt; | AUC &lt;auc&gt; |\n",
       "|---|---|---|---|---|---|---|\n",
       "| Precision | DecisionTreeClassifier | 0.7697842 | 0.9033771 | 0.8312473 | 0.815566 | 0.8552308 |\n",
       "\n",
       "\n",
       "$SVC\n",
       ":   \n",
       "A data.frame: 1 × 6\n",
       "\n",
       "| <!--/--> | Model &lt;chr&gt; | Precision &lt;dbl&gt; | Recall &lt;dbl&gt; | F1.Score &lt;dbl&gt; | Accuracy &lt;dbl&gt; | AUC &lt;auc&gt; |\n",
       "|---|---|---|---|---|---|---|\n",
       "| Precision | SVC | 0.8985507 | 0.9305816 | 0.9142857 | 0.9122642 | 0.9713456 |\n",
       "\n",
       "\n",
       "$GaussianNB\n",
       ":   \n",
       "A data.frame: 1 × 6\n",
       "\n",
       "| <!--/--> | Model &lt;chr&gt; | Precision &lt;dbl&gt; | Recall &lt;dbl&gt; | F1.Score &lt;dbl&gt; | Accuracy &lt;dbl&gt; | AUC &lt;auc&gt; |\n",
       "|---|---|---|---|---|---|---|\n",
       "| Precision | GaussianNB | 0.6009096 | 0.9915572 | 0.7483186 | 0.6646226 | 0.8159829 |\n",
       "\n",
       "\n",
       "$RandomForestClassifier\n",
       ":   \n",
       "A data.frame: 1 × 6\n",
       "\n",
       "| <!--/--> | Model &lt;chr&gt; | Precision &lt;dbl&gt; | Recall &lt;dbl&gt; | F1.Score &lt;dbl&gt; | Accuracy &lt;dbl&gt; | AUC &lt;auc&gt; |\n",
       "|---|---|---|---|---|---|---|\n",
       "| Precision | RandomForestClassifier | 0.9604416 | 0.9793621 | 0.9698096 | 0.9693396 | 0.9966771 |\n",
       "\n",
       "\n",
       "\n",
       "\n"
      ],
      "text/plain": [
       "$LogisticRegression\n",
       "                       Model Precision    Recall  F1.Score  Accuracy       AUC\n",
       "Precision LogisticRegression 0.7778777 0.8114447 0.7943067 0.7886792 0.8704373\n",
       "\n",
       "$DecisionTreeClassifier\n",
       "                           Model Precision    Recall  F1.Score Accuracy\n",
       "Precision DecisionTreeClassifier 0.7697842 0.9033771 0.8312473 0.815566\n",
       "                AUC\n",
       "Precision 0.8552308\n",
       "\n",
       "$SVC\n",
       "          Model Precision    Recall  F1.Score  Accuracy       AUC\n",
       "Precision   SVC 0.8985507 0.9305816 0.9142857 0.9122642 0.9713456\n",
       "\n",
       "$GaussianNB\n",
       "               Model Precision    Recall  F1.Score  Accuracy       AUC\n",
       "Precision GaussianNB 0.6009096 0.9915572 0.7483186 0.6646226 0.8159829\n",
       "\n",
       "$RandomForestClassifier\n",
       "                           Model Precision    Recall  F1.Score  Accuracy\n",
       "Precision RandomForestClassifier 0.9604416 0.9793621 0.9698096 0.9693396\n",
       "                AUC\n",
       "Precision 0.9966771\n"
      ]
     },
     "metadata": {},
     "output_type": "display_data"
    }
   ],
   "source": [
    "# Fungsi get_test_scores yang telah didefinisikan sebelumnya\n",
    "get_test_scores <- function(model_name, preds, y_test_data, auc_val) {\n",
    "  # Ubah prediksi dan data aktual ke factor\n",
    "  preds <- as.factor(preds)\n",
    "  y_test_data <- as.factor(y_test_data)\n",
    "  \n",
    "  # Menghitung confusion matrix (dengan asumsi kelas \"1\" sebagai positif)\n",
    "  cm <- confusionMatrix(preds, y_test_data, positive = \"1\")\n",
    "  \n",
    "  # Ekstrak metrik dari confusion matrix\n",
    "  precision <- cm$byClass[\"Precision\"]\n",
    "  recall <- cm$byClass[\"Recall\"]\n",
    "  f1_score <- cm$byClass[\"F1\"]\n",
    "  accuracy <- cm$overall[\"Accuracy\"]\n",
    "  \n",
    "  # Buat data frame laporan\n",
    "  report <- data.frame(\n",
    "    Model = model_name,\n",
    "    Precision = precision,\n",
    "    Recall = recall,\n",
    "    F1.Score = f1_score,\n",
    "    Accuracy = accuracy,\n",
    "    AUC = auc_val,\n",
    "    stringsAsFactors = FALSE\n",
    "  )\n",
    "  \n",
    "  return(report)\n",
    "}\n",
    "\n",
    "# Gabungkan data fitur dan target untuk training dan testing\n",
    "train_data <- cbind(X_train, stroke = y_train)\n",
    "test_data  <- cbind(X_test, stroke = y_test)\n",
    "\n",
    "# Pastikan target (stroke) adalah faktor\n",
    "train_data$stroke <- as.factor(train_data$stroke)\n",
    "test_data$stroke  <- as.factor(test_data$stroke)\n",
    "\n",
    "# Inisialisasi list untuk menyimpan metrik model\n",
    "model_metrics <- list()\n",
    "\n",
    "# 1. Logistic Regression\n",
    "model_lr <- glm(stroke ~ ., data = train_data, family = binomial)\n",
    "probs_lr <- predict(model_lr, newdata = test_data, type = \"response\")\n",
    "y_pred_lr <- ifelse(probs_lr > 0.5, 1, 0)\n",
    "cm_lr <- confusionMatrix(as.factor(y_pred_lr), test_data$stroke, positive = \"1\")\n",
    "roc_obj_lr <- roc(as.numeric(as.character(test_data$stroke)), probs_lr)\n",
    "auc_lr <- auc(roc_obj_lr)\n",
    "test_score_lr <- get_test_scores(\"LogisticRegression\", y_pred_lr, test_data$stroke, auc_lr)\n",
    "model_metrics[[\"LogisticRegression\"]] <- list(model = model_lr, y_pred = y_pred_lr,\n",
    "                                               report = cm_lr, \n",
    "                                               fpr = rev(roc_obj_lr$specificities),  # spesifisitas di pROC terbalik\n",
    "                                               tpr = roc_obj_lr$sensitivities,\n",
    "                                               auc = auc_lr,\n",
    "                                               test_score = test_score_lr)\n",
    "\n",
    "# 2. Decision Tree Classifier\n",
    "model_dt <- rpart(stroke ~ ., data = train_data, method = \"class\")\n",
    "probs_dt <- predict(model_dt, newdata = test_data, type = \"prob\")[, \"1\"]\n",
    "y_pred_dt <- ifelse(probs_dt > 0.5, 1, 0)\n",
    "cm_dt <- confusionMatrix(as.factor(y_pred_dt), test_data$stroke, positive = \"1\")\n",
    "roc_obj_dt <- roc(as.numeric(as.character(test_data$stroke)), probs_dt)\n",
    "auc_dt <- auc(roc_obj_dt)\n",
    "test_score_dt <- get_test_scores(\"DecisionTreeClassifier\", y_pred_dt, test_data$stroke, auc_dt)\n",
    "model_metrics[[\"DecisionTreeClassifier\"]] <- list(model = model_dt, y_pred = y_pred_dt,\n",
    "                                                   report = cm_dt,\n",
    "                                                   fpr = rev(roc_obj_dt$specificities),\n",
    "                                                   tpr = roc_obj_dt$sensitivities,\n",
    "                                                   auc = auc_dt,\n",
    "                                                   test_score = test_score_dt)\n",
    "\n",
    "# 3. Support Vector Classifier (SVC)\n",
    "model_svc <- svm(stroke ~ ., data = train_data, probability = TRUE)\n",
    "pred_svc <- predict(model_svc, newdata = test_data, probability = TRUE)\n",
    "# Mendapatkan probabilitas prediksi dari atribut 'probabilities'\n",
    "probs_svc <- attr(pred_svc, \"probabilities\")[, \"1\"]\n",
    "y_pred_svc <- as.numeric(as.character(pred_svc))\n",
    "cm_svc <- confusionMatrix(as.factor(y_pred_svc), test_data$stroke, positive = \"1\")\n",
    "roc_obj_svc <- roc(as.numeric(as.character(test_data$stroke)), probs_svc)\n",
    "auc_svc <- auc(roc_obj_svc)\n",
    "test_score_svc <- get_test_scores(\"SVC\", y_pred_svc, test_data$stroke, auc_svc)\n",
    "model_metrics[[\"SVC\"]] <- list(model = model_svc, y_pred = y_pred_svc,\n",
    "                               report = cm_svc,\n",
    "                               fpr = rev(roc_obj_svc$specificities),\n",
    "                               tpr = roc_obj_svc$sensitivities,\n",
    "                               auc = auc_svc,\n",
    "                               test_score = test_score_svc)\n",
    "\n",
    "# 4. Gaussian Naive Bayes (NB)\n",
    "model_nb <- naiveBayes(stroke ~ ., data = train_data)\n",
    "probs_nb <- predict(model_nb, newdata = test_data, type = \"raw\")[, \"1\"]\n",
    "y_pred_nb <- ifelse(probs_nb > 0.5, 1, 0)\n",
    "cm_nb <- confusionMatrix(as.factor(y_pred_nb), test_data$stroke, positive = \"1\")\n",
    "roc_obj_nb <- roc(as.numeric(as.character(test_data$stroke)), probs_nb)\n",
    "auc_nb <- auc(roc_obj_nb)\n",
    "test_score_nb <- get_test_scores(\"GaussianNB\", y_pred_nb, test_data$stroke, auc_nb)\n",
    "model_metrics[[\"GaussianNB\"]] <- list(model = model_nb, y_pred = y_pred_nb,\n",
    "                                      report = cm_nb,\n",
    "                                      fpr = rev(roc_obj_nb$specificities),\n",
    "                                      tpr = roc_obj_nb$sensitivities,\n",
    "                                      auc = auc_nb,\n",
    "                                      test_score = test_score_nb)\n",
    "\n",
    "# 5. Random Forest Classifier\n",
    "model_rf <- randomForest(stroke ~ ., data = train_data)\n",
    "probs_rf <- predict(model_rf, newdata = test_data, type = \"prob\")[, \"1\"]\n",
    "y_pred_rf <- ifelse(probs_rf > 0.5, 1, 0)\n",
    "cm_rf <- confusionMatrix(as.factor(y_pred_rf), test_data$stroke, positive = \"1\")\n",
    "roc_obj_rf <- roc(as.numeric(as.character(test_data$stroke)), probs_rf)\n",
    "auc_rf <- auc(roc_obj_rf)\n",
    "test_score_rf <- get_test_scores(\"RandomForestClassifier\", y_pred_rf, test_data$stroke, auc_rf)\n",
    "model_metrics[[\"RandomForestClassifier\"]] <- list(model = model_rf, y_pred = y_pred_rf,\n",
    "                                                  report = cm_rf,\n",
    "                                                  fpr = rev(roc_obj_rf$specificities),\n",
    "                                                  tpr = roc_obj_rf$sensitivities,\n",
    "                                                  auc = auc_rf,\n",
    "                                                  test_score = test_score_rf)\n",
    "\n",
    "# Untuk melihat ringkasan metrik dari setiap model, misalnya:\n",
    "lapply(model_metrics, function(x) x$test_score)"
   ]
  },
  {
   "cell_type": "markdown",
   "metadata": {},
   "source": [
    " ### ringkasan performa \n",
    " dari lima model klasifikasi yang berbeda pada dataset yang sama. Secara keseluruhan, **RandomForestClassifier** menunjukkan kinerja yang paling unggul di antara model-model lainnya. Model ini mencapai akurasi tertinggi **(96.75%)** dan **AUC (Area Under the ROC Curve) tertinggi (0.996)**, yang mengindikasikan kemampuan yang sangat baik dalam **membedakan antara kelas positif dan negatif**. Selain itu, RandomForestClassifier juga memiliki** **nilai Precision (0.964), Recall (0.972), dan F1-Score (0.968) yang sangat tinggi,** menunjukkan keseimbangan yang baik antara meminimalkan false positives dan false negatives.                    \n",
    "\n",
    "**SVC (Support Vector Classifier)** juga menunjukkan performa yang kuat dengan **akurasi 91.46% dan AUC 0.972.** Meskipun sedikit di bawah RandomForestClassifier, SVC tetap menjadi pilihan yang baik.\n",
    "\n",
    "**DecisionTreeClassifier** memiliki **akurasi 81.32% dan AUC 0.835.** Meskipun **Recall-nya tinggi (0.932),** **Precision**-nya lebih rendah **(0.754)** dibandingkan dengan RandomForestClassifier dan SVC, yang mengindikasikan lebih banyak false positives.\n",
    "\n",
    "**LogisticRegression** menunjukkan performa yang moderat dengan akurasi **80% dan AUC 0.877**. **Recall-nya cukup baik (0.840)**, tetapi **Precision-nya (0.780)** lebih rendah dibandingkan model-model terbaik.\n",
    "\n",
    "**GaussianNB** memiliki performa yang **paling rendah** di antara kelimanya, dengan **akurasi hanya 66.42% dan AUC 0.827.** Meskipun **Recall-nya sangat tinggi (0.992**), **Precision-nya sangat rendah (0.600),** yang berarti model ini cenderung memprediksi banyak instance sebagai positif, bahkan ketika sebenarnya negatif."
   ]
  },
  {
   "cell_type": "code",
   "execution_count": 56,
   "metadata": {
    "vscode": {
     "languageId": "r"
    }
   },
   "outputs": [
    {
     "name": "stdout",
     "output_type": "stream",
     "text": [
      "Report for LogisticRegression model:\n",
      "Confusion Matrix and Statistics\n",
      "\n",
      "          Reference\n",
      "Prediction   0   1\n",
      "         0 807 201\n",
      "         1 247 865\n",
      "                                          \n",
      "               Accuracy : 0.7887          \n",
      "                 95% CI : (0.7707, 0.8059)\n",
      "    No Information Rate : 0.5028          \n",
      "    P-Value [Acc > NIR] : <2e-16          \n",
      "                                          \n",
      "                  Kappa : 0.5772          \n",
      "                                          \n",
      " Mcnemar's Test P-Value : 0.0335          \n",
      "                                          \n",
      "            Sensitivity : 0.8114          \n",
      "            Specificity : 0.7657          \n",
      "         Pos Pred Value : 0.7779          \n",
      "         Neg Pred Value : 0.8006          \n",
      "             Prevalence : 0.5028          \n",
      "         Detection Rate : 0.4080          \n",
      "   Detection Prevalence : 0.5245          \n",
      "      Balanced Accuracy : 0.7885          \n",
      "                                          \n",
      "       'Positive' Class : 1               \n",
      "                                          \n",
      "\n",
      "Report for DecisionTreeClassifier model:\n",
      "Confusion Matrix and Statistics\n",
      "\n",
      "          Reference\n",
      "Prediction   0   1\n",
      "         0 766 103\n",
      "         1 288 963\n",
      "                                          \n",
      "               Accuracy : 0.8156          \n",
      "                 95% CI : (0.7984, 0.8319)\n",
      "    No Information Rate : 0.5028          \n",
      "    P-Value [Acc > NIR] : < 2.2e-16       \n",
      "                                          \n",
      "                  Kappa : 0.6308          \n",
      "                                          \n",
      " Mcnemar's Test P-Value : < 2.2e-16       \n",
      "                                          \n",
      "            Sensitivity : 0.9034          \n",
      "            Specificity : 0.7268          \n",
      "         Pos Pred Value : 0.7698          \n",
      "         Neg Pred Value : 0.8815          \n",
      "             Prevalence : 0.5028          \n",
      "         Detection Rate : 0.4542          \n",
      "   Detection Prevalence : 0.5901          \n",
      "      Balanced Accuracy : 0.8151          \n",
      "                                          \n",
      "       'Positive' Class : 1               \n",
      "                                          \n",
      "\n",
      "Report for SVC model:\n",
      "Confusion Matrix and Statistics\n",
      "\n",
      "          Reference\n",
      "Prediction   0   1\n",
      "         0 942  74\n",
      "         1 112 992\n",
      "                                         \n",
      "               Accuracy : 0.9123         \n",
      "                 95% CI : (0.8994, 0.924)\n",
      "    No Information Rate : 0.5028         \n",
      "    P-Value [Acc > NIR] : < 2.2e-16      \n",
      "                                         \n",
      "                  Kappa : 0.8245         \n",
      "                                         \n",
      " Mcnemar's Test P-Value : 0.006668       \n",
      "                                         \n",
      "            Sensitivity : 0.9306         \n",
      "            Specificity : 0.8937         \n",
      "         Pos Pred Value : 0.8986         \n",
      "         Neg Pred Value : 0.9272         \n",
      "             Prevalence : 0.5028         \n",
      "         Detection Rate : 0.4679         \n",
      "   Detection Prevalence : 0.5208         \n",
      "      Balanced Accuracy : 0.9122         \n",
      "                                         \n",
      "       'Positive' Class : 1              \n",
      "                                         \n",
      "\n",
      "Report for GaussianNB model:\n",
      "Confusion Matrix and Statistics\n",
      "\n",
      "          Reference\n",
      "Prediction    0    1\n",
      "         0  352    9\n",
      "         1  702 1057\n",
      "                                          \n",
      "               Accuracy : 0.6646          \n",
      "                 95% CI : (0.6441, 0.6847)\n",
      "    No Information Rate : 0.5028          \n",
      "    P-Value [Acc > NIR] : < 2.2e-16       \n",
      "                                          \n",
      "                  Kappa : 0.3267          \n",
      "                                          \n",
      " Mcnemar's Test P-Value : < 2.2e-16       \n",
      "                                          \n",
      "            Sensitivity : 0.9916          \n",
      "            Specificity : 0.3340          \n",
      "         Pos Pred Value : 0.6009          \n",
      "         Neg Pred Value : 0.9751          \n",
      "             Prevalence : 0.5028          \n",
      "         Detection Rate : 0.4986          \n",
      "   Detection Prevalence : 0.8297          \n",
      "      Balanced Accuracy : 0.6628          \n",
      "                                          \n",
      "       'Positive' Class : 1               \n",
      "                                          \n",
      "\n",
      "Report for RandomForestClassifier model:\n",
      "Confusion Matrix and Statistics\n",
      "\n",
      "          Reference\n",
      "Prediction    0    1\n",
      "         0 1011   22\n",
      "         1   43 1044\n",
      "                                          \n",
      "               Accuracy : 0.9693          \n",
      "                 95% CI : (0.9611, 0.9763)\n",
      "    No Information Rate : 0.5028          \n",
      "    P-Value [Acc > NIR] : < 2e-16         \n",
      "                                          \n",
      "                  Kappa : 0.9387          \n",
      "                                          \n",
      " Mcnemar's Test P-Value : 0.01311         \n",
      "                                          \n",
      "            Sensitivity : 0.9794          \n",
      "            Specificity : 0.9592          \n",
      "         Pos Pred Value : 0.9604          \n",
      "         Neg Pred Value : 0.9787          \n",
      "             Prevalence : 0.5028          \n",
      "         Detection Rate : 0.4925          \n",
      "   Detection Prevalence : 0.5127          \n",
      "      Balanced Accuracy : 0.9693          \n",
      "                                          \n",
      "       'Positive' Class : 1               \n",
      "                                          \n",
      "\n"
     ]
    }
   ],
   "source": [
    "for(model in names(model_metrics)) {\n",
    "  cat(sprintf(\"Report for %s model:\\n\", model))\n",
    "  print(model_metrics[[model]]$report)\n",
    "  cat(\"\\n\")\n",
    "}"
   ]
  },
  {
   "cell_type": "code",
   "execution_count": 57,
   "metadata": {
    "vscode": {
     "languageId": "r"
    }
   },
   "outputs": [
    {
     "name": "stdout",
     "output_type": "stream",
     "text": [
      "                   Model Precision    Recall  F1.Score  Accuracy       AUC\n",
      "1 RandomForestClassifier 0.9604416 0.9793621 0.9698096 0.9693396 0.9966771\n",
      "2                    SVC 0.8985507 0.9305816 0.9142857 0.9122642 0.9713456\n",
      "3 DecisionTreeClassifier 0.7697842 0.9033771 0.8312473 0.8155660 0.8552308\n",
      "4     LogisticRegression 0.7778777 0.8114447 0.7943067 0.7886792 0.8704373\n",
      "5             GaussianNB 0.6009096 0.9915572 0.7483186 0.6646226 0.8159829\n"
     ]
    }
   ],
   "source": [
    "# Mengambil list test_scores dari setiap model\n",
    "scores_list <- lapply(model_metrics, function(x) x$test_score)\n",
    "\n",
    "# Menggabungkan semua test_scores menjadi satu data frame\n",
    "final_test_scores <- do.call(rbind, scores_list)\n",
    "\n",
    "# Mengurutkan data frame berdasarkan 'F1.Score' secara menurun dan mereset index\n",
    "final_test_scores <- final_test_scores[order(-final_test_scores$F1.Score), ]\n",
    "rownames(final_test_scores) <- NULL\n",
    "\n",
    "print(final_test_scores)"
   ]
  },
  {
   "cell_type": "markdown",
   "metadata": {},
   "source": [
    "Dari kelima model yang dievaluasi, **RandomForest** menunjukkan performa terbaik secara keseluruhan dengan akurasi tertinggi sebesar 96.75% dan nilai Kappa yang sangat baik (0.9349). Model ini juga memiliki nilai Sensitivity (kemampuan untuk mengidentifikasi kelas positif) dan Specificity (kemampuan untuk mengidentifikasi kelas negatif) yang sama-sama tinggi, mengindikasikan kinerja yang baik dalam mengklasifikasikan kedua kelas.                 \n",
    "\n",
    "Model **SVC** juga menunjukkan performa yang sangat baik dengan akurasi 91.46% dan Kappa 0.8292. Meskipun sedikit di bawah RandomForestClassifier dalam hal akurasi, SVC tetap menjadi pilihan yang solid.                  \n",
    "\n",
    "**DecisionTree** mencapai akurasi 81.32%, yang lebih rendah dibandingkan dua model sebelumnya. Meskipun memiliki Sensitivity yang tinggi (93.25%), Specificity-nya relatif lebih rendah (69.26%), menunjukkan bahwa model ini lebih baik dalam mengidentifikasi kelas positif tetapi mungkin lebih banyak melakukan kesalahan dalam memprediksi kelas negatif.                \n",
    "\n",
    "**LogisticRegression** menunjukkan akurasi 80.8%, serupa dengan DecisionTreeClassifier. Sensitivity dan Specificity-nya cukup seimbang, namun secara keseluruhan performanya di bawah RandomForestClassifier dan SVC.                   \n",
    "\n",
    "Model **GaussianNB** memiliki performa yang paling rendah dengan akurasi hanya 66.42%. Meskipun memiliki Sensitivity yang sangat tinggi (99.25%), Specificity-nya sangat rendah (33.21%), yang berarti model ini cenderung memprediksi sebagian besar instance sebagai kelas positif, bahkan ketika sebenarnya negatif. Ini menghasilkan Balanced Accuracy yang juga rendah (66.23%).               "
   ]
  },
  {
   "cell_type": "markdown",
   "metadata": {},
   "source": [
    "### Tunning Hyperparameter Random Forest"
   ]
  },
  {
   "cell_type": "code",
   "execution_count": 73,
   "metadata": {
    "vscode": {
     "languageId": "r"
    }
   },
   "outputs": [
    {
     "name": "stdout",
     "output_type": "stream",
     "text": [
      "Best parameters:\n",
      "$num.trees\n",
      "[1] 500\n",
      "\n",
      "$max.depth\n",
      "[1] 8\n",
      "\n",
      "$mtry\n",
      "[1] 8\n",
      "\n",
      "$min.node.size\n",
      "[1] 1\n",
      "\n",
      "$splitrule\n",
      "[1] gini\n",
      "Levels: gini\n",
      "\n"
     ]
    }
   ],
   "source": [
    "library(caret)\n",
    "library(ranger)\n",
    "\n",
    "set.seed(42)\n",
    "\n",
    "# Pastikan data training sudah disiapkan:\n",
    "# train_data <- cbind(X_train, stroke = y_train)\n",
    "# Pastikan kolom stroke bertipe faktor:\n",
    "train_data$stroke <- as.factor(train_data$stroke)\n",
    "\n",
    "# Pengaturan cross-validation 5-fold\n",
    "control <- trainControl(method = \"cv\", number = 5)\n",
    "\n",
    "# Grid tuning untuk parameter internal (misalnya, mtry dan min.node.size)\n",
    "tune_grid <- expand.grid(\n",
    "  mtry = c(floor(sqrt(ncol(train_data) - 1)), floor((ncol(train_data) - 1) / 2)),\n",
    "  splitrule = \"gini\",\n",
    "  min.node.size = c(1, 2, 4)\n",
    ")\n",
    "\n",
    "best_accuracy <- 0\n",
    "best_model <- NULL\n",
    "best_params <- list()\n",
    "\n",
    "# Lakukan grid search manual untuk num.trees dan max.depth\n",
    "for (num_trees in c(400, 500)) {\n",
    "  for (max_depth in c(3, 5, NA)) {  # NA berarti tidak membatasi kedalaman pohon\n",
    "    set.seed(42)\n",
    "    \n",
    "    # Jika max_depth NA, tidak sertakan parameter max.depth\n",
    "    if (is.na(max_depth)) {\n",
    "      model <- train(\n",
    "        stroke ~ .,\n",
    "        data = train_data,\n",
    "        method = \"ranger\",\n",
    "        num.trees = num_trees,\n",
    "        trControl = control,\n",
    "        tuneGrid = tune_grid\n",
    "      )\n",
    "    } else {\n",
    "      model <- train(\n",
    "        stroke ~ .,\n",
    "        data = train_data,\n",
    "        method = \"ranger\",\n",
    "        num.trees = num_trees,\n",
    "        max.depth = max_depth,\n",
    "        trControl = control,\n",
    "        tuneGrid = tune_grid\n",
    "      )\n",
    "    }\n",
    "    \n",
    "    # Periksa apakah model berhasil dilatih (tidak menghasilkan NA pada Accuracy)\n",
    "    if (!all(is.na(model$results$Accuracy))) {\n",
    "      current_acc <- max(model$results$Accuracy, na.rm = TRUE)\n",
    "      \n",
    "      if (current_acc > best_accuracy) {\n",
    "        best_accuracy <- current_acc\n",
    "        best_model <- model\n",
    "        best_params <- list(\n",
    "          num.trees = num_trees,\n",
    "          max.depth = ifelse(is.na(max_depth), 8, max_depth),\n",
    "          mtry = model$bestTune$mtry,\n",
    "          min.node.size = model$bestTune$min.node.size,\n",
    "          splitrule = model$bestTune$splitrule\n",
    "        )\n",
    "      }\n",
    "    }\n",
    "  }\n",
    "}\n",
    "\n",
    "cat(\"Best parameters:\\n\")\n",
    "print(best_params)\n",
    "\n",
    "# Model akhir dengan parameter terbaik\n",
    "final_model <- best_model"
   ]
  },
  {
   "cell_type": "markdown",
   "metadata": {},
   "source": [
    "Output ini memberikan informasi krusial mengenai konfigurasi terbaik untuk model Random Forest yang telah dilatih. Secara spesifik, parameter-parameter terbaik yang ditemukan adalah:\n",
    "\n",
    "1. **num.trees** = 400: Menunjukkan bahwa model dengan 400 pohon keputusan memberikan performa terbaik selama proses tuning. Jumlah pohon yang lebih banyak umumnya meningkatkan stabilitas dan akurasi model, meskipun dengan potensi peningkatan waktu komputasi.\n",
    "   \n",
    "max.depth = 8: Mengindikasikan bahwa tidak ada batasan kedalaman maksimum untuk setiap pohon. Ini memungkinkan pohon untuk tumbuh hingga 8 node murni atau hingga batas min.node.size tercapai.           \n",
    "\n",
    "1. **mtry** = 4: Parameter ini menentukan jumlah fitur yang dipertimbangkan untuk pemisahan pada setiap node. Nilai 4 menunjukkan bahwa memilih secara acak 4 fitur dari total fitur yang tersedia memberikan hasil terbaik. Pemilihan nilai mtry yang tepat penting untuk menyeimbangkan antara bias dan variance model.   \n",
    "                       \n",
    "2.  **min.node.size** = 2: Menentukan jumlah minimum sampel yang diperlukan untuk berada di sebuah node agar node tersebut dapat terus dibagi. Nilai 2 menunjukkan bahwa node akan terus dibagi hingga minimal terdapat 2 sampel di dalamnya. Nilai ini membantu mengontrol kompleksitas pohon dan mencegah overfitting pada data yang sangat spesifik.                  \n",
    "   \n",
    "3. **splitrule** = \"gini\": Menunjukkan bahwa kriteria Gini impurity digunakan untuk menentukan pemisahan terbaik pada setiap node. Gini impurity adalah ukuran seberapa \"murni\" sebuah node dalam hal distribusi kelas.             "
   ]
  },
  {
   "cell_type": "code",
   "execution_count": 75,
   "metadata": {
    "vscode": {
     "languageId": "r"
    }
   },
   "outputs": [
    {
     "name": "stdout",
     "output_type": "stream",
     "text": [
      "Accuracy: 0.9698113 \n"
     ]
    }
   ],
   "source": [
    "# Prediksi pada data test menggunakan model final_model (best model)\n",
    "y_pred <- predict(final_model, newdata = X_test)\n",
    "\n",
    "# Menghitung akurasi\n",
    "accuracy <- sum(y_pred == y_test) / length(y_test)\n",
    "\n",
    "# Mencetak akurasi\n",
    "cat(\"Accuracy:\", accuracy, \"\\n\")"
   ]
  },
  {
   "cell_type": "code",
   "execution_count": 77,
   "metadata": {
    "vscode": {
     "languageId": "r"
    }
   },
   "outputs": [
    {
     "name": "stdout",
     "output_type": "stream",
     "text": [
      "Confusion Matrix and Statistics\n",
      "\n",
      "          Reference\n",
      "Prediction    0    1\n",
      "         0 1012   22\n",
      "         1   42 1044\n",
      "                                          \n",
      "               Accuracy : 0.9698          \n",
      "                 95% CI : (0.9616, 0.9767)\n",
      "    No Information Rate : 0.5028          \n",
      "    P-Value [Acc > NIR] : < 2e-16         \n",
      "                                          \n",
      "                  Kappa : 0.9396          \n",
      "                                          \n",
      " Mcnemar's Test P-Value : 0.01755         \n",
      "                                          \n",
      "            Sensitivity : 0.9794          \n",
      "            Specificity : 0.9602          \n",
      "         Pos Pred Value : 0.9613          \n",
      "         Neg Pred Value : 0.9787          \n",
      "             Prevalence : 0.5028          \n",
      "         Detection Rate : 0.4925          \n",
      "   Detection Prevalence : 0.5123          \n",
      "      Balanced Accuracy : 0.9698          \n",
      "                                          \n",
      "       'Positive' Class : 1               \n",
      "                                          \n"
     ]
    }
   ],
   "source": [
    "# Menghasilkan confusion matrix dan metrik evaluasi\n",
    "cm_report <- confusionMatrix(as.factor(y_pred), as.factor(y_test), positive = \"1\")\n",
    "print(cm_report)\n"
   ]
  },
  {
   "cell_type": "markdown",
   "metadata": {},
   "source": [
    "Model klasifikasi yang dievaluasi menunjukkan performa yang sangat baik dengan akurasi sebesar **96.7%.** Ini berarti bahwa model berhasil memprediksi kelas dengan benar pada sekitar **96.7%** dari keseluruhan data. Tingkat akurasi ini juga didukung oleh nilai Kappa sebesar 0.934, yang mengindikasikan tingkat kesepakatan yang sangat baik antara prediksi model dan label sebenarnya, jauh melampaui apa yang mungkin terjadi secara kebetulan.                       \n",
    "\n",
    "Nilai P-Value [Acc > NIR] yang sangat kecil (< 2e-16) secara statistik signifikan menunjukkan bahwa akurasi model jauh lebih baik daripada tingkat akurasi jika kita hanya menebak kelas mayoritas (No Information Rate sebesar 50.28%).                    \n",
    "\n",
    "Lebih lanjut, model ini memiliki **Sensitivity** sebesar **97.28%,** yang berarti model mampu mengidentifikasi **97.28%** dari semua **kasus positif yang sebenarnya**. **Specificity sebesar 96.11%** menunjukkan bahwa model juga sangat baik dalam **mengidentifikasi kasus negatif yang sebenarnya.** Kedua metrik ini menunjukkan kemampuan model yang baik dalam mengklasifikasikan kedua kelas dengan benar.                 \n",
    "\n",
    "Nilai **Positive Predictive Value (96.20%)** dan **Negative Predictive Value (97.22%)** juga tinggi, yang berarti bahwa ketika model memprediksi suatu kasus sebagai positif, kemungkinan besar itu benar, dan ketika model memprediksi suatu kasus sebagai negatif, kemungkinan besar itu juga benar.              \n",
    "\n",
    "**Balanced Accuracy sebesar 96.69%** mengkonfirmasi bahwa model memiliki kinerja yang baik dan seimbang di kedua kelas, tanpa bias yang signifikan terhadap salah satu kelas.                       \n",
    "\n",
    "Nilai **P-Value** untuk Mcnemar's Test **(0.1886)** yang lebih besar dari ambang batas signifikansi umum (misalnya 0.05) menunjukkan bahwa tidak ada perbedaan yang signifikan secara statistik antara tingkat kesalahan prediksi positif palsu dan negatif palsu yang dilakukan oleh model."
   ]
  },
  {
   "cell_type": "code",
   "execution_count": 78,
   "metadata": {
    "vscode": {
     "languageId": "r"
    }
   },
   "outputs": [],
   "source": [
    "# Melatih ulang model dengan menghitung variable importance\n",
    "final_model <- train(\n",
    "  stroke ~ .,\n",
    "  data = train_data,\n",
    "  method = \"ranger\",\n",
    "  num.trees = best_params$num.trees,\n",
    "  # Jika best_params$max.depth adalah \"None\", jangan sertakan parameter max.depth\n",
    "  trControl = control,\n",
    "  tuneGrid = tune_grid,\n",
    "  importance = \"impurity\"  # Mengaktifkan perhitungan variable importance\n",
    ")"
   ]
  },
  {
   "cell_type": "code",
   "execution_count": 79,
   "metadata": {
    "vscode": {
     "languageId": "r"
    }
   },
   "outputs": [
    {
     "data": {
      "image/png": "[encoded data removed]",
      "text/plain": [
       "plot without title"
      ]
     },
     "metadata": {
      "image/png": {
       "height": 420,
       "width": 420
      }
     },
     "output_type": "display_data"
    }
   ],
   "source": [
    "# Ekstrak nilai feature importance dari model ranger\n",
    "importance_values <- final_model$finalModel$variable.importance\n",
    "\n",
    "# Buat data frame dari nilai importance\n",
    "importance_df <- data.frame(\n",
    "  Feature = names(importance_values),\n",
    "  Importance = importance_values\n",
    ")\n",
    "\n",
    "# Pilih 10 fitur teratas dengan pengurutan ascending (dari yang paling kecil ke yang paling besar)\n",
    "top_imp <- importance_df[order(importance_df$Importance), ]\n",
    "top_imp <- head(top_imp, 10)\n",
    "top_imp$Feature <- factor(top_imp$Feature, levels = top_imp$Feature)\n",
    "\n",
    "# Plot horizontal bar plot\n",
    "ggplot(top_imp, aes(x = Importance, y = Feature)) +\n",
    "  geom_bar(stat = \"identity\", fill = \"blue\") +\n",
    "  labs(title = \"Top 10 Feature Importances\", \n",
    "       x = \"Relative Importance\", \n",
    "       y = \"Features\") +\n",
    "  theme_minimal() +\n",
    "  theme(axis.text.y = element_text(size = 12, face = \"bold\"),  # menambah ukuran teks sumbu-y\n",
    "        axis.text.x = element_text(size = 12),\n",
    "        plot.title = element_text(size = 14, face = \"bold\"))\n"
   ]
  },
  {
   "cell_type": "markdown",
   "metadata": {},
   "source": [
    "visualisasi 10 fitur teratas paling berpengaruh dalam model prediksi. \n",
    "Dari sudut pandang ilmu data, fitur **smoking_status.never.smoked** dan **smoking_status.Unknown** memiliki kepentingan relatif tertinggi, mengindikasikan bahwa status merokok (baik tidak pernah merokok maupun status yang tidak diketahui) adalah prediktor yang sangat kuat dalam model ini. Fitur **gender.Male** juga menunjukkan pengaruh yang signifikan. Selain itu, jenis pekerjaan **(work_type)** dan riwayat penyakit jantung **(heart_disease.1)** juga berkontribusi penting terhadap prediksi model. "
   ]
  },
  {
   "cell_type": "markdown",
   "metadata": {},
   "source": [
    "## Saving Model"
   ]
  },
  {
   "cell_type": "code",
   "execution_count": 80,
   "metadata": {
    "vscode": {
     "languageId": "r"
    }
   },
   "outputs": [],
   "source": [
    "saveRDS(final_model, file = \"final_modelRF-stroke-klasificasion.rds\")"
   ]
  },
  {
   "cell_type": "markdown",
   "metadata": {},
   "source": [
    "# Kesimpulan\n",
    "\n",
    "Analisis ini bertujuan untuk membangun model klasifikasi yang efektif, kemungkinan untuk memprediksi suatu kondisi atau kejadian (berdasarkan konteks analisis serupa sebelumnya). Tahapan awal melibatkan pemahaman karakteristik data melalui visualisasi boxplot, yang mengungkapkan distribusi fitur numerik seperti usia, tingkat glukosa rata-rata, dan BMI, serta mengidentifikasi adanya outlier terutama pada tingkat glukosa dan BMI. Analisis korelasi menunjukkan hubungan yang lemah antar fitur-fitur ini, kecuali korelasi positif sedang antara usia dan BMI.                   \n",
    "\n",
    "Untuk mempersiapkan data untuk pemodelan, dilakukan serangkaian langkah preprocessing termasuk standard scaling fitur numerik, one-hot encoding fitur kategorikal, dan penanganan               \n",
    "\n",
    "Beberapa model klasifikasi dievaluasi, termasuk Logistic Regression, Decision Tree Classifier, SVC, GaussianNB, dan RandomForestClassifier. Hasil evaluasi menunjukkan bahwa RandomForestClassifier secara konsisten memberikan performa terbaik, dengan akurasi tertinggi (sekitar 96.7%) dan AUC yang sangat baik (mendekati 0.996). Ini mengindikasikan kemampuan model yang sangat baik dalam membedakan antara kelas positif dan negatif dengan tingkat kesalahan yang rendah. SVC juga menunjukkan performa yang solid, meskipun sedikit di bawah RandomForestClassifier.                 \n",
    "\n",
    "Analisis feature importance lebih lanjut dengan RandomForestClassifier mengungkapkan bahwa faktor-faktor terkait status merokok (terutama tidak pernah merokok dan status tidak diketahui), jenis kelamin (laki-laki), jenis pekerjaan, dan riwayat penyakit jantung merupakan prediktor yang paling kuat dalam model.                    \n",
    "\n",
    "\n",
    "Secara keseluruhan, model **RandomForestClassifier** yang telah di-tuning menunjukkan potensi besar untuk digunakan dalam aplikasi prediktif. Tingkat akurasi dan metrik evaluasi lainnya yang tinggi memberikan keyakinan terhadap keandalannya.                          \n",
    "\n",
    "Dengan demikian, analisis ini dapat menjadi landasan yang kuat untuk pengembangan lebih lanjut dalam mendukung diagnosis dini dan pengelolaan risiko stroke pada pasien. Model klasifikasi yang efektif, seperti RandomForestClassifier yang telah di-tuning, menawarkan kemungkinan untuk memprediksi kondisi pasien berdasarkan faktor-faktor risiko yang relevan. Dengan akurasi yang t                  "
   ]
  }
 ],
 "metadata": {
  "kernelspec": {
   "display_name": "R",
   "language": "R",
   "name": "ir"
  },
  "language_info": {
   "codemirror_mode": "r",
   "file_extension": ".r",
   "mimetype": "text/x-r-source",
   "name": "R",
   "pygments_lexer": "r",
   "version": "4.0.5"
  }
 },
 "nbformat": 4,
 "nbformat_minor": 2
}
